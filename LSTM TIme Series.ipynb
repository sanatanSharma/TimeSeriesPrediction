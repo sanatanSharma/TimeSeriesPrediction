{
 "cells": [
  {
   "cell_type": "code",
   "execution_count": 58,
   "metadata": {
    "collapsed": false
   },
   "outputs": [],
   "source": [
    "import pandas as pd\n",
    "import numpy as np\n",
    "from keras.models import Sequential, Model\n",
    "from keras.layers import Dense, Dropout, Input, Lambda, LSTM\n",
    "from keras.optimizers import RMSprop\n",
    "import math\n",
    "import matplotlib.pyplot as plt\n",
    "from sklearn.metrics import mean_squared_error"
   ]
  },
  {
   "cell_type": "code",
   "execution_count": 2,
   "metadata": {
    "collapsed": true
   },
   "outputs": [],
   "source": [
    "data = pd.read_csv('ppm.csv')"
   ]
  },
  {
   "cell_type": "code",
   "execution_count": 9,
   "metadata": {
    "collapsed": false
   },
   "outputs": [],
   "source": [
    "data = data.drop(data.columns[0], axis = 1)"
   ]
  },
  {
   "cell_type": "code",
   "execution_count": 23,
   "metadata": {
    "collapsed": false
   },
   "outputs": [],
   "source": [
    "dataset = data.values[:-1]"
   ]
  },
  {
   "cell_type": "code",
   "execution_count": 24,
   "metadata": {
    "collapsed": false
   },
   "outputs": [
    {
     "data": {
      "text/plain": [
       "array([['319.32'],\n",
       "       ['320.36'],\n",
       "       ['320.82'],\n",
       "       ['322.06'],\n",
       "       ['322.17'],\n",
       "       ['321.95'],\n",
       "       ['321.20'],\n",
       "       ['318.81'],\n",
       "       ['317.82'],\n",
       "       ['317.37'],\n",
       "       ['318.93'],\n",
       "       ['319.09'],\n",
       "       ['319.94'],\n",
       "       ['320.98'],\n",
       "       ['321.81'],\n",
       "       ['323.03'],\n",
       "       ['323.36'],\n",
       "       ['323.11'],\n",
       "       ['321.65'],\n",
       "       ['319.64'],\n",
       "       ['317.86'],\n",
       "       ['317.25'],\n",
       "       ['319.06'],\n",
       "       ['320.26'],\n",
       "       ['321.65'],\n",
       "       ['321.81'],\n",
       "       ['322.36'],\n",
       "       ['323.67'],\n",
       "       ['324.17'],\n",
       "       ['323.39'],\n",
       "       ['321.93'],\n",
       "       ['320.29'],\n",
       "       ['318.58'],\n",
       "       ['318.60'],\n",
       "       ['319.98'],\n",
       "       ['321.25'],\n",
       "       ['321.88'],\n",
       "       ['322.47'],\n",
       "       ['323.17'],\n",
       "       ['324.23'],\n",
       "       ['324.88'],\n",
       "       ['324.75'],\n",
       "       ['323.47'],\n",
       "       ['321.34'],\n",
       "       ['319.56'],\n",
       "       ['319.45'],\n",
       "       ['320.45'],\n",
       "       ['321.92'],\n",
       "       ['323.40'],\n",
       "       ['324.21'],\n",
       "       ['325.33'],\n",
       "       ['326.31'],\n",
       "       ['327.01'],\n",
       "       ['326.24'],\n",
       "       ['325.37'],\n",
       "       ['323.12'],\n",
       "       ['321.85'],\n",
       "       ['321.31'],\n",
       "       ['322.31'],\n",
       "       ['323.72'],\n",
       "       ['324.60'],\n",
       "       ['325.57'],\n",
       "       ['326.55'],\n",
       "       ['327.80'],\n",
       "       ['327.80'],\n",
       "       ['327.54'],\n",
       "       ['326.28'],\n",
       "       ['324.63'],\n",
       "       ['323.12'],\n",
       "       ['323.11'],\n",
       "       ['323.99'],\n",
       "       ['325.09'],\n",
       "       ['326.12'],\n",
       "       ['326.61'],\n",
       "       ['327.16'],\n",
       "       ['327.92'],\n",
       "       ['329.14'],\n",
       "       ['328.80'],\n",
       "       ['327.52'],\n",
       "       ['325.62'],\n",
       "       ['323.61'],\n",
       "       ['323.80'],\n",
       "       ['325.10'],\n",
       "       ['326.25'],\n",
       "       ['326.93'],\n",
       "       ['327.83'],\n",
       "       ['327.95'],\n",
       "       ['329.91'],\n",
       "       ['330.22'],\n",
       "       ['329.25'],\n",
       "       ['328.11'],\n",
       "       ['326.39'],\n",
       "       ['324.97'],\n",
       "       ['325.32'],\n",
       "       ['326.54'],\n",
       "       ['327.71'],\n",
       "       ['328.73'],\n",
       "       ['329.69'],\n",
       "       ['330.47'],\n",
       "       ['331.69'],\n",
       "       ['332.65'],\n",
       "       ['332.24'],\n",
       "       ['331.03'],\n",
       "       ['329.36'],\n",
       "       ['327.60'],\n",
       "       ['327.29'],\n",
       "       ['328.28'],\n",
       "       ['328.79'],\n",
       "       ['329.45'],\n",
       "       ['330.89'],\n",
       "       ['331.63'],\n",
       "       ['332.85'],\n",
       "       ['333.28'],\n",
       "       ['332.47'],\n",
       "       ['331.34'],\n",
       "       ['329.53'],\n",
       "       ['327.57'],\n",
       "       ['327.57'],\n",
       "       ['328.53'],\n",
       "       ['329.69'],\n",
       "       ['330.45'],\n",
       "       ['330.97'],\n",
       "       ['331.64'],\n",
       "       ['332.87'],\n",
       "       ['333.61'],\n",
       "       ['333.55'],\n",
       "       ['331.90'],\n",
       "       ['330.05'],\n",
       "       ['328.58'],\n",
       "       ['328.31'],\n",
       "       ['329.41'],\n",
       "       ['330.63'],\n",
       "       ['331.63'],\n",
       "       ['332.46'],\n",
       "       ['333.36'],\n",
       "       ['334.45'],\n",
       "       ['334.82'],\n",
       "       ['334.32'],\n",
       "       ['333.05'],\n",
       "       ['330.87'],\n",
       "       ['329.24'],\n",
       "       ['328.87'],\n",
       "       ['330.18'],\n",
       "       ['331.50'],\n",
       "       ['332.81'],\n",
       "       ['333.23'],\n",
       "       ['334.55'],\n",
       "       ['335.82'],\n",
       "       ['336.44'],\n",
       "       ['335.99'],\n",
       "       ['334.65'],\n",
       "       ['332.41'],\n",
       "       ['331.32'],\n",
       "       ['330.73'],\n",
       "       ['332.05'],\n",
       "       ['333.53'],\n",
       "       ['334.66'],\n",
       "       ['335.07'],\n",
       "       ['336.33'],\n",
       "       ['337.39'],\n",
       "       ['337.65'],\n",
       "       ['337.57'],\n",
       "       ['336.25'],\n",
       "       ['334.39'],\n",
       "       ['332.44'],\n",
       "       ['332.25'],\n",
       "       ['333.59'],\n",
       "       ['334.76'],\n",
       "       ['335.89'],\n",
       "       ['336.44'],\n",
       "       ['337.63'],\n",
       "       ['338.54'],\n",
       "       ['339.06'],\n",
       "       ['338.95'],\n",
       "       ['337.41'],\n",
       "       ['335.71'],\n",
       "       ['333.68'],\n",
       "       ['333.69'],\n",
       "       ['335.05'],\n",
       "       ['336.53'],\n",
       "       ['337.81'],\n",
       "       ['338.16'],\n",
       "       ['339.88'],\n",
       "       ['340.57'],\n",
       "       ['341.19'],\n",
       "       ['340.87'],\n",
       "       ['339.25'],\n",
       "       ['337.19'],\n",
       "       ['335.49'],\n",
       "       ['336.63'],\n",
       "       ['337.74'],\n",
       "       ['338.36']], dtype=object)"
      ]
     },
     "execution_count": 24,
     "metadata": {},
     "output_type": "execute_result"
    }
   ],
   "source": [
    "dataset"
   ]
  },
  {
   "cell_type": "code",
   "execution_count": 25,
   "metadata": {
    "collapsed": false
   },
   "outputs": [],
   "source": [
    "dataset = dataset.astype('float32')"
   ]
  },
  {
   "cell_type": "code",
   "execution_count": 26,
   "metadata": {
    "collapsed": true
   },
   "outputs": [],
   "source": [
    "from sklearn.preprocessing import MinMaxScaler"
   ]
  },
  {
   "cell_type": "code",
   "execution_count": 27,
   "metadata": {
    "collapsed": true
   },
   "outputs": [],
   "source": [
    "scaler = MinMaxScaler(feature_range=(0, 1))"
   ]
  },
  {
   "cell_type": "code",
   "execution_count": 28,
   "metadata": {
    "collapsed": true
   },
   "outputs": [],
   "source": [
    "dataset = scaler.fit_transform(dataset)"
   ]
  },
  {
   "cell_type": "code",
   "execution_count": 31,
   "metadata": {
    "collapsed": false
   },
   "outputs": [],
   "source": [
    "train_size = int(len(dataset) * 0.67)\n",
    "test_size = len(dataset) - train_size\n",
    "train, test = dataset[0:train_size,:], dataset[train_size:len(dataset),:]"
   ]
  },
  {
   "cell_type": "code",
   "execution_count": 37,
   "metadata": {
    "collapsed": true
   },
   "outputs": [],
   "source": [
    "def create_dataset(dataset, look_back=1):\n",
    "\tdataX, dataY = [], []\n",
    "\tfor i in range(len(dataset)-look_back-1):\n",
    "\t\ta = dataset[i:(i+look_back), 0]\n",
    "\t\tdataX.append(a)\n",
    "\t\tdataY.append(dataset[i + look_back, 0])\n",
    "\treturn np.array(dataX), np.array(dataY)"
   ]
  },
  {
   "cell_type": "code",
   "execution_count": 38,
   "metadata": {
    "collapsed": false
   },
   "outputs": [],
   "source": [
    "look_back = 3\n",
    "trainX, trainY = create_dataset(train, look_back)\n",
    "testX, testY = create_dataset(test, look_back)"
   ]
  },
  {
   "cell_type": "code",
   "execution_count": 39,
   "metadata": {
    "collapsed": true
   },
   "outputs": [],
   "source": [
    "trainX = np.reshape(trainX, (trainX.shape[0], trainX.shape[1], 1))\n",
    "testX = np.reshape(testX, (testX.shape[0], testX.shape[1], 1))"
   ]
  },
  {
   "cell_type": "code",
   "execution_count": 44,
   "metadata": {
    "collapsed": false,
    "scrolled": true
   },
   "outputs": [
    {
     "name": "stdout",
     "output_type": "stream",
     "text": [
      "Epoch 1/100\n",
      "1s - loss: 0.0639\n",
      "Epoch 2/100\n",
      "0s - loss: 0.0193\n",
      "Epoch 3/100\n",
      "0s - loss: 0.0156\n",
      "Epoch 4/100\n",
      "0s - loss: 0.0135\n",
      "Epoch 5/100\n",
      "0s - loss: 0.0116\n",
      "Epoch 6/100\n",
      "0s - loss: 0.0102\n",
      "Epoch 7/100\n",
      "0s - loss: 0.0085\n",
      "Epoch 8/100\n",
      "0s - loss: 0.0076\n",
      "Epoch 9/100\n",
      "0s - loss: 0.0068\n",
      "Epoch 10/100\n",
      "0s - loss: 0.0063\n",
      "Epoch 11/100\n",
      "0s - loss: 0.0060\n",
      "Epoch 12/100\n",
      "0s - loss: 0.0059\n",
      "Epoch 13/100\n",
      "0s - loss: 0.0058\n",
      "Epoch 14/100\n",
      "0s - loss: 0.0057\n",
      "Epoch 15/100\n",
      "0s - loss: 0.0056\n",
      "Epoch 16/100\n",
      "0s - loss: 0.0056\n",
      "Epoch 17/100\n",
      "0s - loss: 0.0057\n",
      "Epoch 18/100\n",
      "0s - loss: 0.0055\n",
      "Epoch 19/100\n",
      "0s - loss: 0.0055\n",
      "Epoch 20/100\n",
      "0s - loss: 0.0055\n",
      "Epoch 21/100\n",
      "0s - loss: 0.0055\n",
      "Epoch 22/100\n",
      "0s - loss: 0.0055\n",
      "Epoch 23/100\n",
      "0s - loss: 0.0053\n",
      "Epoch 24/100\n",
      "0s - loss: 0.0055\n",
      "Epoch 25/100\n",
      "0s - loss: 0.0053\n",
      "Epoch 26/100\n",
      "0s - loss: 0.0054\n",
      "Epoch 27/100\n",
      "0s - loss: 0.0052\n",
      "Epoch 28/100\n",
      "0s - loss: 0.0052\n",
      "Epoch 29/100\n",
      "0s - loss: 0.0051\n",
      "Epoch 30/100\n",
      "0s - loss: 0.0050\n",
      "Epoch 31/100\n",
      "0s - loss: 0.0053\n",
      "Epoch 32/100\n",
      "0s - loss: 0.0050\n",
      "Epoch 33/100\n",
      "0s - loss: 0.0051\n",
      "Epoch 34/100\n",
      "0s - loss: 0.0050\n",
      "Epoch 35/100\n",
      "0s - loss: 0.0048\n",
      "Epoch 36/100\n",
      "0s - loss: 0.0050\n",
      "Epoch 37/100\n",
      "0s - loss: 0.0048\n",
      "Epoch 38/100\n",
      "1s - loss: 0.0047\n",
      "Epoch 39/100\n",
      "0s - loss: 0.0049\n",
      "Epoch 40/100\n",
      "1s - loss: 0.0047\n",
      "Epoch 41/100\n",
      "1s - loss: 0.0047\n",
      "Epoch 42/100\n",
      "0s - loss: 0.0045\n",
      "Epoch 43/100\n",
      "0s - loss: 0.0045\n",
      "Epoch 44/100\n",
      "0s - loss: 0.0045\n",
      "Epoch 45/100\n",
      "0s - loss: 0.0045\n",
      "Epoch 46/100\n",
      "0s - loss: 0.0044\n",
      "Epoch 47/100\n",
      "0s - loss: 0.0043\n",
      "Epoch 48/100\n",
      "0s - loss: 0.0043\n",
      "Epoch 49/100\n",
      "0s - loss: 0.0043\n",
      "Epoch 50/100\n",
      "0s - loss: 0.0043\n",
      "Epoch 51/100\n",
      "0s - loss: 0.0040\n",
      "Epoch 52/100\n",
      "0s - loss: 0.0042\n",
      "Epoch 53/100\n",
      "0s - loss: 0.0040\n",
      "Epoch 54/100\n",
      "0s - loss: 0.0040\n",
      "Epoch 55/100\n",
      "0s - loss: 0.0039\n",
      "Epoch 56/100\n",
      "0s - loss: 0.0039\n",
      "Epoch 57/100\n",
      "0s - loss: 0.0038\n",
      "Epoch 58/100\n",
      "0s - loss: 0.0037\n",
      "Epoch 59/100\n",
      "0s - loss: 0.0036\n",
      "Epoch 60/100\n",
      "1s - loss: 0.0035\n",
      "Epoch 61/100\n",
      "1s - loss: 0.0034\n",
      "Epoch 62/100\n",
      "0s - loss: 0.0033\n",
      "Epoch 63/100\n",
      "1s - loss: 0.0032\n",
      "Epoch 64/100\n",
      "0s - loss: 0.0031\n",
      "Epoch 65/100\n",
      "0s - loss: 0.0029\n",
      "Epoch 66/100\n",
      "0s - loss: 0.0028\n",
      "Epoch 67/100\n",
      "0s - loss: 0.0026\n",
      "Epoch 68/100\n",
      "1s - loss: 0.0026\n",
      "Epoch 69/100\n",
      "1s - loss: 0.0023\n",
      "Epoch 70/100\n",
      "0s - loss: 0.0022\n",
      "Epoch 71/100\n",
      "0s - loss: 0.0020\n",
      "Epoch 72/100\n",
      "0s - loss: 0.0020\n",
      "Epoch 73/100\n",
      "0s - loss: 0.0019\n",
      "Epoch 74/100\n",
      "0s - loss: 0.0018\n",
      "Epoch 75/100\n",
      "0s - loss: 0.0017\n",
      "Epoch 76/100\n",
      "0s - loss: 0.0016\n",
      "Epoch 77/100\n",
      "0s - loss: 0.0016\n",
      "Epoch 78/100\n",
      "0s - loss: 0.0015\n",
      "Epoch 79/100\n",
      "0s - loss: 0.0015\n",
      "Epoch 80/100\n",
      "1s - loss: 0.0014\n",
      "Epoch 81/100\n",
      "0s - loss: 0.0015\n",
      "Epoch 82/100\n",
      "0s - loss: 0.0016\n",
      "Epoch 83/100\n",
      "0s - loss: 0.0015\n",
      "Epoch 84/100\n",
      "0s - loss: 0.0013\n",
      "Epoch 85/100\n",
      "0s - loss: 0.0014\n",
      "Epoch 86/100\n",
      "0s - loss: 0.0013\n",
      "Epoch 87/100\n",
      "0s - loss: 0.0013\n",
      "Epoch 88/100\n",
      "0s - loss: 0.0013\n",
      "Epoch 89/100\n",
      "0s - loss: 0.0013\n",
      "Epoch 90/100\n",
      "0s - loss: 0.0013\n",
      "Epoch 91/100\n",
      "0s - loss: 0.0012\n",
      "Epoch 92/100\n",
      "0s - loss: 0.0012\n",
      "Epoch 93/100\n",
      "0s - loss: 0.0012\n",
      "Epoch 94/100\n",
      "0s - loss: 0.0012\n",
      "Epoch 95/100\n",
      "0s - loss: 0.0012\n",
      "Epoch 96/100\n",
      "0s - loss: 0.0012\n",
      "Epoch 97/100\n",
      "0s - loss: 0.0011\n",
      "Epoch 98/100\n",
      "0s - loss: 0.0012\n",
      "Epoch 99/100\n",
      "0s - loss: 0.0011\n",
      "Epoch 100/100\n",
      "0s - loss: 0.0011\n"
     ]
    },
    {
     "data": {
      "text/plain": [
       "<keras.callbacks.History at 0x7f8f5fe0c4d0>"
      ]
     },
     "execution_count": 44,
     "metadata": {},
     "output_type": "execute_result"
    }
   ],
   "source": [
    "model = Sequential()\n",
    "model.add(LSTM(4, input_shape=(look_back, 1)))\n",
    "model.add(Dense(1))\n",
    "model.compile(loss='mean_squared_error', optimizer='adam')\n",
    "model.fit(trainX, trainY, epochs=100, batch_size=1, verbose=2)"
   ]
  },
  {
   "cell_type": "code",
   "execution_count": 50,
   "metadata": {
    "collapsed": true
   },
   "outputs": [],
   "source": [
    "trainPredict = model.predict(trainX)\n",
    "testPredict = model.predict(testX)"
   ]
  },
  {
   "cell_type": "code",
   "execution_count": 51,
   "metadata": {
    "collapsed": true
   },
   "outputs": [],
   "source": [
    "trainPredict = scaler.inverse_transform(trainPredict)\n",
    "trainY = scaler.inverse_transform([trainY])\n",
    "testPredict = scaler.inverse_transform(testPredict)\n",
    "testY = scaler.inverse_transform([testY])"
   ]
  },
  {
   "cell_type": "code",
   "execution_count": 52,
   "metadata": {
    "collapsed": false,
    "scrolled": false
   },
   "outputs": [
    {
     "name": "stdout",
     "output_type": "stream",
     "text": [
      "Train Score: 0.76 RMSE\n",
      "Test Score: 1.00 RMSE\n"
     ]
    }
   ],
   "source": [
    "trainScore = math.sqrt(mean_squared_error(trainY[0], trainPredict[:,0]))\n",
    "print('Train Score: %.2f RMSE' % (trainScore))\n",
    "testScore = math.sqrt(mean_squared_error(testY[0], testPredict[:,0]))\n",
    "print('Test Score: %.2f RMSE' % (testScore))"
   ]
  },
  {
   "cell_type": "code",
   "execution_count": 54,
   "metadata": {
    "collapsed": false
   },
   "outputs": [],
   "source": [
    "trainPredictPlot = np.empty_like(dataset)\n",
    "trainPredictPlot[:, :] = np.nan\n",
    "trainPredictPlot[look_back:len(trainPredict)+look_back, :] = trainPredict"
   ]
  },
  {
   "cell_type": "code",
   "execution_count": 56,
   "metadata": {
    "collapsed": false
   },
   "outputs": [],
   "source": [
    "testPredictPlot = np.empty_like(dataset)\n",
    "testPredictPlot[:, :] = np.nan\n",
    "testPredictPlot[len(trainPredict)+(look_back*2)+1:len(dataset)-1, :] = testPredict\n"
   ]
  },
  {
   "cell_type": "code",
   "execution_count": 59,
   "metadata": {
    "collapsed": false,
    "scrolled": true
   },
   "outputs": [
    {
     "data": {
      "image/png": "[encoded data removed]",
      "text/plain": [
       "<matplotlib.figure.Figure at 0x7f8f5dba6b50>"
      ]
     },
     "metadata": {},
     "output_type": "display_data"
    }
   ],
   "source": [
    "plt.plot(scaler.inverse_transform(dataset))\n",
    "plt.plot(trainPredictPlot)\n",
    "plt.plot(testPredictPlot)\n",
    "plt.show()"
   ]
  },
  {
   "cell_type": "code",
   "execution_count": null,
   "metadata": {
    "collapsed": true
   },
   "outputs": [],
   "source": [
    "    "
   ]
  }
 ],
 "metadata": {
  "anaconda-cloud": {},
  "kernelspec": {
   "display_name": "Python [default]",
   "language": "python",
   "name": "python2"
  },
  "language_info": {
   "codemirror_mode": {
    "name": "ipython",
    "version": 2
   },
   "file_extension": ".py",
   "mimetype": "text/x-python",
   "name": "python",
   "nbconvert_exporter": "python",
   "pygments_lexer": "ipython2",
   "version": "2.7.12"
  }
 },
 "nbformat": 4,
 "nbformat_minor": 1
}
